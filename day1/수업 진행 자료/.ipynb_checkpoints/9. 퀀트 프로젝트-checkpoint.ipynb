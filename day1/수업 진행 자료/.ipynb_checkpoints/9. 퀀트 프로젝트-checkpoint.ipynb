{
 "cells": [
  {
   "cell_type": "code",
   "execution_count": 39,
   "metadata": {},
   "outputs": [],
   "source": [
    "import pandas as pd\n",
    "import matplotlib.pyplot as plt\n",
    "%matplotlib inline"
   ]
  },
  {
   "cell_type": "markdown",
   "metadata": {},
   "source": [
    "### Data"
   ]
  },
  {
   "cell_type": "code",
   "execution_count": 40,
   "metadata": {},
   "outputs": [],
   "source": [
    "df = pd.read_csv('./data-bitcoin.csv')"
   ]
  },
  {
   "cell_type": "code",
   "execution_count": 41,
   "metadata": {},
   "outputs": [
    {
     "data": {
      "text/html": [
       "<div>\n",
       "<style scoped>\n",
       "    .dataframe tbody tr th:only-of-type {\n",
       "        vertical-align: middle;\n",
       "    }\n",
       "\n",
       "    .dataframe tbody tr th {\n",
       "        vertical-align: top;\n",
       "    }\n",
       "\n",
       "    .dataframe thead th {\n",
       "        text-align: right;\n",
       "    }\n",
       "</style>\n",
       "<table border=\"1\" class=\"dataframe\">\n",
       "  <thead>\n",
       "    <tr style=\"text-align: right;\">\n",
       "      <th></th>\n",
       "      <th>날짜</th>\n",
       "      <th>현재가</th>\n",
       "      <th>오픈</th>\n",
       "      <th>고가</th>\n",
       "      <th>저가</th>\n",
       "      <th>거래량</th>\n",
       "      <th>변동 %</th>\n",
       "    </tr>\n",
       "  </thead>\n",
       "  <tbody>\n",
       "    <tr>\n",
       "      <th>0</th>\n",
       "      <td>2019년 05월 13일</td>\n",
       "      <td>7,110.3</td>\n",
       "      <td>6,984.7</td>\n",
       "      <td>7,111.4</td>\n",
       "      <td>6,893.1</td>\n",
       "      <td>1.26M</td>\n",
       "      <td>1.80%</td>\n",
       "    </tr>\n",
       "    <tr>\n",
       "      <th>1</th>\n",
       "      <td>2019년 05월 12일</td>\n",
       "      <td>6,984.8</td>\n",
       "      <td>7,190.0</td>\n",
       "      <td>7,518.9</td>\n",
       "      <td>6,802.6</td>\n",
       "      <td>1.35M</td>\n",
       "      <td>-2.86%</td>\n",
       "    </tr>\n",
       "    <tr>\n",
       "      <th>2</th>\n",
       "      <td>2019년 05월 11일</td>\n",
       "      <td>7,190.3</td>\n",
       "      <td>6,386.6</td>\n",
       "      <td>7,373.8</td>\n",
       "      <td>6,386.5</td>\n",
       "      <td>1.31M</td>\n",
       "      <td>12.59%</td>\n",
       "    </tr>\n",
       "    <tr>\n",
       "      <th>3</th>\n",
       "      <td>2019년 05월 10일</td>\n",
       "      <td>6,386.0</td>\n",
       "      <td>6,194.3</td>\n",
       "      <td>6,466.6</td>\n",
       "      <td>6,157.8</td>\n",
       "      <td>907.94K</td>\n",
       "      <td>3.14%</td>\n",
       "    </tr>\n",
       "    <tr>\n",
       "      <th>4</th>\n",
       "      <td>2019년 05월 09일</td>\n",
       "      <td>6,191.5</td>\n",
       "      <td>5,990.5</td>\n",
       "      <td>6,206.0</td>\n",
       "      <td>5,990.0</td>\n",
       "      <td>799.96K</td>\n",
       "      <td>3.36%</td>\n",
       "    </tr>\n",
       "  </tbody>\n",
       "</table>\n",
       "</div>"
      ],
      "text/plain": [
       "              날짜      현재가       오픈       고가       저가      거래량    변동 %\n",
       "0  2019년 05월 13일  7,110.3  6,984.7  7,111.4  6,893.1    1.26M   1.80%\n",
       "1  2019년 05월 12일  6,984.8  7,190.0  7,518.9  6,802.6    1.35M  -2.86%\n",
       "2  2019년 05월 11일  7,190.3  6,386.6  7,373.8  6,386.5    1.31M  12.59%\n",
       "3  2019년 05월 10일  6,386.0  6,194.3  6,466.6  6,157.8  907.94K   3.14%\n",
       "4  2019년 05월 09일  6,191.5  5,990.5  6,206.0  5,990.0  799.96K   3.36%"
      ]
     },
     "execution_count": 41,
     "metadata": {},
     "output_type": "execute_result"
    }
   ],
   "source": [
    "df.head()"
   ]
  },
  {
   "cell_type": "code",
   "execution_count": 42,
   "metadata": {},
   "outputs": [],
   "source": [
    "del df['변동 %']\n",
    "df.columns = ['날짜', '현재가', '시가', '고가', '저가', '거래량']\n",
    "df = df[['날짜', '현재가', '시가', '고가', '저가', '거래량']]"
   ]
  },
  {
   "cell_type": "code",
   "execution_count": 43,
   "metadata": {},
   "outputs": [
    {
     "data": {
      "text/html": [
       "<div>\n",
       "<style scoped>\n",
       "    .dataframe tbody tr th:only-of-type {\n",
       "        vertical-align: middle;\n",
       "    }\n",
       "\n",
       "    .dataframe tbody tr th {\n",
       "        vertical-align: top;\n",
       "    }\n",
       "\n",
       "    .dataframe thead th {\n",
       "        text-align: right;\n",
       "    }\n",
       "</style>\n",
       "<table border=\"1\" class=\"dataframe\">\n",
       "  <thead>\n",
       "    <tr style=\"text-align: right;\">\n",
       "      <th></th>\n",
       "      <th>날짜</th>\n",
       "      <th>현재가</th>\n",
       "      <th>시가</th>\n",
       "      <th>고가</th>\n",
       "      <th>저가</th>\n",
       "      <th>거래량</th>\n",
       "    </tr>\n",
       "  </thead>\n",
       "  <tbody>\n",
       "    <tr>\n",
       "      <th>0</th>\n",
       "      <td>2019년 05월 13일</td>\n",
       "      <td>7,110.3</td>\n",
       "      <td>6,984.7</td>\n",
       "      <td>7,111.4</td>\n",
       "      <td>6,893.1</td>\n",
       "      <td>1.26M</td>\n",
       "    </tr>\n",
       "    <tr>\n",
       "      <th>1</th>\n",
       "      <td>2019년 05월 12일</td>\n",
       "      <td>6,984.8</td>\n",
       "      <td>7,190.0</td>\n",
       "      <td>7,518.9</td>\n",
       "      <td>6,802.6</td>\n",
       "      <td>1.35M</td>\n",
       "    </tr>\n",
       "    <tr>\n",
       "      <th>2</th>\n",
       "      <td>2019년 05월 11일</td>\n",
       "      <td>7,190.3</td>\n",
       "      <td>6,386.6</td>\n",
       "      <td>7,373.8</td>\n",
       "      <td>6,386.5</td>\n",
       "      <td>1.31M</td>\n",
       "    </tr>\n",
       "    <tr>\n",
       "      <th>3</th>\n",
       "      <td>2019년 05월 10일</td>\n",
       "      <td>6,386.0</td>\n",
       "      <td>6,194.3</td>\n",
       "      <td>6,466.6</td>\n",
       "      <td>6,157.8</td>\n",
       "      <td>907.94K</td>\n",
       "    </tr>\n",
       "    <tr>\n",
       "      <th>4</th>\n",
       "      <td>2019년 05월 09일</td>\n",
       "      <td>6,191.5</td>\n",
       "      <td>5,990.5</td>\n",
       "      <td>6,206.0</td>\n",
       "      <td>5,990.0</td>\n",
       "      <td>799.96K</td>\n",
       "    </tr>\n",
       "  </tbody>\n",
       "</table>\n",
       "</div>"
      ],
      "text/plain": [
       "              날짜      현재가       시가       고가       저가      거래량\n",
       "0  2019년 05월 13일  7,110.3  6,984.7  7,111.4  6,893.1    1.26M\n",
       "1  2019년 05월 12일  6,984.8  7,190.0  7,518.9  6,802.6    1.35M\n",
       "2  2019년 05월 11일  7,190.3  6,386.6  7,373.8  6,386.5    1.31M\n",
       "3  2019년 05월 10일  6,386.0  6,194.3  6,466.6  6,157.8  907.94K\n",
       "4  2019년 05월 09일  6,191.5  5,990.5  6,206.0  5,990.0  799.96K"
      ]
     },
     "execution_count": 43,
     "metadata": {},
     "output_type": "execute_result"
    }
   ],
   "source": [
    "df.head()"
   ]
  },
  {
   "cell_type": "markdown",
   "metadata": {},
   "source": [
    "# 문제 1. 각 컬럼을 다음의 형태로 변경하세요"
   ]
  },
  {
   "cell_type": "markdown",
   "metadata": {},
   "source": [
    "### 힌트. 문자열 PARSING과 FOR문을 사용한다. (함수)"
   ]
  },
  {
   "cell_type": "code",
   "execution_count": 44,
   "metadata": {},
   "outputs": [],
   "source": [
    "date_list = df['날짜'].tolist()"
   ]
  },
  {
   "cell_type": "code",
   "execution_count": 45,
   "metadata": {},
   "outputs": [],
   "source": [
    "df['날짜'] = date_list"
   ]
  },
  {
   "cell_type": "markdown",
   "metadata": {},
   "source": [
    "### 채워야 할 부분"
   ]
  },
  {
   "cell_type": "code",
   "execution_count": 48,
   "metadata": {},
   "outputs": [
    {
     "data": {
      "text/html": [
       "<div>\n",
       "<style scoped>\n",
       "    .dataframe tbody tr th:only-of-type {\n",
       "        vertical-align: middle;\n",
       "    }\n",
       "\n",
       "    .dataframe tbody tr th {\n",
       "        vertical-align: top;\n",
       "    }\n",
       "\n",
       "    .dataframe thead th {\n",
       "        text-align: right;\n",
       "    }\n",
       "</style>\n",
       "<table border=\"1\" class=\"dataframe\">\n",
       "  <thead>\n",
       "    <tr style=\"text-align: right;\">\n",
       "      <th></th>\n",
       "      <th>날짜</th>\n",
       "      <th>현재가</th>\n",
       "      <th>시가</th>\n",
       "      <th>고가</th>\n",
       "      <th>저가</th>\n",
       "      <th>거래량</th>\n",
       "    </tr>\n",
       "  </thead>\n",
       "  <tbody>\n",
       "    <tr>\n",
       "      <th>0</th>\n",
       "      <td>2019-05-13</td>\n",
       "      <td>7110.3</td>\n",
       "      <td>6984.7</td>\n",
       "      <td>7111.4</td>\n",
       "      <td>6893.1</td>\n",
       "      <td>1260000.0</td>\n",
       "    </tr>\n",
       "    <tr>\n",
       "      <th>1</th>\n",
       "      <td>2019-05-12</td>\n",
       "      <td>6984.8</td>\n",
       "      <td>7190.0</td>\n",
       "      <td>7518.9</td>\n",
       "      <td>6802.6</td>\n",
       "      <td>1350000.0</td>\n",
       "    </tr>\n",
       "    <tr>\n",
       "      <th>2</th>\n",
       "      <td>2019-05-11</td>\n",
       "      <td>7190.3</td>\n",
       "      <td>6386.6</td>\n",
       "      <td>7373.8</td>\n",
       "      <td>6386.5</td>\n",
       "      <td>1310000.0</td>\n",
       "    </tr>\n",
       "    <tr>\n",
       "      <th>3</th>\n",
       "      <td>2019-05-10</td>\n",
       "      <td>6386.0</td>\n",
       "      <td>6194.3</td>\n",
       "      <td>6466.6</td>\n",
       "      <td>6157.8</td>\n",
       "      <td>907940.0</td>\n",
       "    </tr>\n",
       "    <tr>\n",
       "      <th>4</th>\n",
       "      <td>2019-05-09</td>\n",
       "      <td>6191.5</td>\n",
       "      <td>5990.5</td>\n",
       "      <td>6206.0</td>\n",
       "      <td>5990.0</td>\n",
       "      <td>799960.0</td>\n",
       "    </tr>\n",
       "  </tbody>\n",
       "</table>\n",
       "</div>"
      ],
      "text/plain": [
       "           날짜     현재가      시가      고가      저가        거래량\n",
       "0  2019-05-13  7110.3  6984.7  7111.4  6893.1  1260000.0\n",
       "1  2019-05-12  6984.8  7190.0  7518.9  6802.6  1350000.0\n",
       "2  2019-05-11  7190.3  6386.6  7373.8  6386.5  1310000.0\n",
       "3  2019-05-10  6386.0  6194.3  6466.6  6157.8   907940.0\n",
       "4  2019-05-09  6191.5  5990.5  6206.0  5990.0   799960.0"
      ]
     },
     "execution_count": 48,
     "metadata": {},
     "output_type": "execute_result"
    }
   ],
   "source": [
    "df.head()"
   ]
  },
  {
   "cell_type": "code",
   "execution_count": 36,
   "metadata": {},
   "outputs": [],
   "source": [
    "df['종가'] = df['시가'].shift(1)\n",
    "df['종가'].fillna(method='bfill', inplace=True)\n",
    "df['날짜'] = pd.to_datetime(df['날짜'])\n",
    "df.set_index('날짜', inplace=True)\n",
    "df.sort_index(inplace=True)"
   ]
  },
  {
   "cell_type": "code",
   "execution_count": 37,
   "metadata": {},
   "outputs": [
    {
     "data": {
      "text/plain": [
       "<matplotlib.axes._subplots.AxesSubplot at 0x16c4a5a7be0>"
      ]
     },
     "execution_count": 37,
     "metadata": {},
     "output_type": "execute_result"
    },
    {
     "data": {
      "image/png": "[encoded data removed]",
      "text/plain": [
       "<Figure size 1080x360 with 1 Axes>"
      ]
     },
     "metadata": {},
     "output_type": "display_data"
    }
   ],
   "source": [
    "plt.figure(figsize=(15,5))\n",
    "df['종가'].plot()"
   ]
  },
  {
   "cell_type": "markdown",
   "metadata": {},
   "source": [
    "# 문제 2. 다음 전략에 따라서 성과를 출력하시오"
   ]
  },
  {
   "cell_type": "markdown",
   "metadata": {},
   "source": [
    "### 자본금 10000달러 수수료 10%"
   ]
  },
  {
   "cell_type": "code",
   "execution_count": null,
   "metadata": {},
   "outputs": [],
   "source": [
    "initial_money = 10000\n",
    "fee = 0.1"
   ]
  },
  {
   "cell_type": "markdown",
   "metadata": {},
   "source": [
    "### 1) 시가에 사고 종가에 판다."
   ]
  },
  {
   "cell_type": "code",
   "execution_count": null,
   "metadata": {},
   "outputs": [],
   "source": []
  },
  {
   "cell_type": "markdown",
   "metadata": {},
   "source": [
    "### 2) 시가에 사서 10% 오르면 팔고 아니면 종가에 판다."
   ]
  },
  {
   "cell_type": "code",
   "execution_count": null,
   "metadata": {},
   "outputs": [],
   "source": []
  },
  {
   "cell_type": "markdown",
   "metadata": {},
   "source": [
    "### 3) 시가에 사서 5% 떨어지면 팔고 아니면 종가에 판다."
   ]
  },
  {
   "cell_type": "code",
   "execution_count": null,
   "metadata": {},
   "outputs": [],
   "source": []
  },
  {
   "cell_type": "markdown",
   "metadata": {},
   "source": [
    "# 문제 3. 복잡한 전략"
   ]
  },
  {
   "cell_type": "markdown",
   "metadata": {},
   "source": [
    "### 1) 변동성 돌파"
   ]
  },
  {
   "cell_type": "markdown",
   "metadata": {},
   "source": [
    "- 각 화폐의 레인지 계산(전일 고가 - 저가)\n",
    "- 매수: 실시간 가격 > 당일 시가 + (레인지 * 0.5)\n",
    "- 돌파에 성공한 날 자산의 50% 투입\n",
    "- 매도: 다음 날 시가"
   ]
  },
  {
   "cell_type": "markdown",
   "metadata": {},
   "source": [
    "### 2) 1)을 Class로 작성해보세요."
   ]
  }
 ],
 "metadata": {
  "kernelspec": {
   "display_name": "Python 3",
   "language": "python",
   "name": "python3"
  },
  "language_info": {
   "codemirror_mode": {
    "name": "ipython",
    "version": 3
   },
   "file_extension": ".py",
   "mimetype": "text/x-python",
   "name": "python",
   "nbconvert_exporter": "python",
   "pygments_lexer": "ipython3",
   "version": "3.6.8"
  }
 },
 "nbformat": 4,
 "nbformat_minor": 2
}
