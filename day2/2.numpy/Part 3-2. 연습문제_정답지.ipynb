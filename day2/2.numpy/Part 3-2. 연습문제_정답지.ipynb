{
 "cells": [
  {
   "cell_type": "markdown",
   "metadata": {
    "school_cell_uuid": "e8671d9c2227484aafddf0b555596949"
   },
   "source": [
    "# [연습문제 1]\n",
    "### 벡터 x가 다음과 같을 때, 여러가지 수식을 사용하여 같은 크기의 벡터 y를 만든다.\n",
    "\n",
    "#### x = np.arange(10)"
   ]
  },
  {
   "cell_type": "code",
   "execution_count": 29,
   "metadata": {
    "school_cell_uuid": "b831373df00e4e5a8e32bf363ae33580"
   },
   "outputs": [
    {
     "data": {
      "text/plain": [
       "array([0, 1, 2, 3, 4, 5, 6, 7, 8, 9])"
      ]
     },
     "execution_count": 29,
     "metadata": {},
     "output_type": "execute_result"
    }
   ],
   "source": [
    "import numpy as np\n",
    "x = np.arange(10)\n",
    "x"
   ]
  },
  {
   "cell_type": "markdown",
   "metadata": {},
   "source": [
    "#### ndarray (x) 의 exponenetial 값을 출력하세요"
   ]
  },
  {
   "cell_type": "code",
   "execution_count": 31,
   "metadata": {
    "school_cell_uuid": "ce3143c8b2af4f25a0befc9552113e6a"
   },
   "outputs": [
    {
     "data": {
      "text/plain": [
       "array([1.00000000e+00, 2.71828183e+00, 7.38905610e+00, 2.00855369e+01,\n",
       "       5.45981500e+01, 1.48413159e+02, 4.03428793e+02, 1.09663316e+03,\n",
       "       2.98095799e+03, 8.10308393e+03])"
      ]
     },
     "execution_count": 31,
     "metadata": {},
     "output_type": "execute_result"
    }
   ],
   "source": [
    "np.exp(x)"
   ]
  },
  {
   "cell_type": "markdown",
   "metadata": {},
   "source": [
    "#### 각 원소에 10을 곱한 결과를 출력하세요"
   ]
  },
  {
   "cell_type": "code",
   "execution_count": 32,
   "metadata": {
    "school_cell_uuid": "6c2b0a6f308c41f18e42fc6876c66bd6"
   },
   "outputs": [
    {
     "data": {
      "text/plain": [
       "array([ 0, 10, 20, 30, 40, 50, 60, 70, 80, 90])"
      ]
     },
     "execution_count": 32,
     "metadata": {},
     "output_type": "execute_result"
    }
   ],
   "source": [
    "x * 10"
   ]
  },
  {
   "cell_type": "markdown",
   "metadata": {},
   "source": [
    "#### 각 원소에 10를 더한 결과를 출력하세요"
   ]
  },
  {
   "cell_type": "code",
   "execution_count": 33,
   "metadata": {
    "school_cell_uuid": "65eb678b5967447ead2c6f6a100b26c3"
   },
   "outputs": [
    {
     "data": {
      "text/plain": [
       "array([10, 11, 12, 13, 14, 15, 16, 17, 18, 19])"
      ]
     },
     "execution_count": 33,
     "metadata": {},
     "output_type": "execute_result"
    }
   ],
   "source": [
    "x + 10"
   ]
  },
  {
   "cell_type": "markdown",
   "metadata": {},
   "source": [
    "#### 각 원소에 제곱한 결과를 출력하세요"
   ]
  },
  {
   "cell_type": "code",
   "execution_count": 34,
   "metadata": {},
   "outputs": [
    {
     "data": {
      "text/plain": [
       "array([ 0,  1,  4,  9, 16, 25, 36, 49, 64, 81], dtype=int32)"
      ]
     },
     "execution_count": 34,
     "metadata": {},
     "output_type": "execute_result"
    }
   ],
   "source": [
    "x ** 2"
   ]
  },
  {
   "cell_type": "markdown",
   "metadata": {
    "school_cell_uuid": "c83cc9ee3c174082a193095bd49abfc3"
   },
   "source": [
    "---"
   ]
  },
  {
   "cell_type": "markdown",
   "metadata": {
    "school_cell_uuid": "7659e27abc054d5fa56a67347e92b357"
   },
   "source": [
    "# [연습문제 2]\n",
    "### 5 x 6 형태의 데이터 행렬을 만들고 이 데이터에 대해 다음과 같은 값을 구한다.\n",
    "\n",
    "1. 전체의 최댓값\n",
    "2. 각 행의 합\n",
    "3. 각 열의 평균"
   ]
  },
  {
   "cell_type": "code",
   "execution_count": 46,
   "metadata": {
    "school_cell_uuid": "af5b4abc5ad14a3f83371df074ac2663"
   },
   "outputs": [
    {
     "data": {
      "text/plain": [
       "array([[150, 147, 144, 141, 138, 135],\n",
       "       [132, 129, 126, 123, 120, 117],\n",
       "       [114, 111, 108, 105, 102,  99],\n",
       "       [ 96,  93,  90,  87,  84,  81],\n",
       "       [ 78,  75,  72,  69,  66,  63]])"
      ]
     },
     "execution_count": 46,
     "metadata": {},
     "output_type": "execute_result"
    }
   ],
   "source": [
    "x = np.arange(50,20,-1)\n",
    "y = x * 3\n",
    "z = y.reshape(5, 6)\n",
    "z"
   ]
  },
  {
   "cell_type": "markdown",
   "metadata": {},
   "source": [
    "#### 1. 전체의 최대값"
   ]
  },
  {
   "cell_type": "code",
   "execution_count": 36,
   "metadata": {
    "school_cell_uuid": "07fe30463f0d4f9daf8d1cb5a1bf442e"
   },
   "outputs": [
    {
     "data": {
      "text/plain": [
       "150"
      ]
     },
     "execution_count": 36,
     "metadata": {},
     "output_type": "execute_result"
    }
   ],
   "source": [
    "np.max(z)"
   ]
  },
  {
   "cell_type": "markdown",
   "metadata": {},
   "source": [
    "#### 2. 각 행의 합 "
   ]
  },
  {
   "cell_type": "code",
   "execution_count": 37,
   "metadata": {
    "school_cell_uuid": "a4c7e4146cc2468dbd6b96e11a5ad1e1"
   },
   "outputs": [
    {
     "data": {
      "text/plain": [
       "array([855, 747, 639, 531, 423])"
      ]
     },
     "execution_count": 37,
     "metadata": {},
     "output_type": "execute_result"
    }
   ],
   "source": [
    "np.sum(z, axis=1)"
   ]
  },
  {
   "cell_type": "markdown",
   "metadata": {},
   "source": [
    "#### 3. 각 열의 평균"
   ]
  },
  {
   "cell_type": "code",
   "execution_count": 38,
   "metadata": {
    "school_cell_uuid": "bd506da8cac540139b6b4341764da8a9"
   },
   "outputs": [
    {
     "data": {
      "text/plain": [
       "array([114., 111., 108., 105., 102.,  99.])"
      ]
     },
     "execution_count": 38,
     "metadata": {},
     "output_type": "execute_result"
    }
   ],
   "source": [
    "np.mean(z, axis=0)"
   ]
  },
  {
   "cell_type": "markdown",
   "metadata": {
    "school_cell_uuid": "32d92317ceb94ba58a7cc218fc017e4a"
   },
   "source": [
    "---"
   ]
  },
  {
   "cell_type": "markdown",
   "metadata": {
    "school_cell_uuid": "de04378ebacf409ba17280fd6b4cf7b6"
   },
   "source": [
    "# [연습문제 3]\n",
    "### 연습 문제 2에서 만든 데이터에 대해 다음을 구한다.\n",
    "\n",
    "1. 열 값으로 모든 행을 정렬\n",
    "2. 행 값으로 모든 열을 정렬"
   ]
  },
  {
   "cell_type": "code",
   "execution_count": 52,
   "metadata": {
    "school_cell_uuid": "92d1a33c6ae84eae93c407c3dd7ce85a"
   },
   "outputs": [
    {
     "data": {
      "text/plain": [
       "array([[150, 147, 144, 141, 138, 135],\n",
       "       [132, 129, 126, 123, 120, 117],\n",
       "       [114, 111, 108, 105, 102,  99],\n",
       "       [ 96,  93,  90,  87,  84,  81],\n",
       "       [ 78,  75,  72,  69,  66,  63]])"
      ]
     },
     "execution_count": 52,
     "metadata": {},
     "output_type": "execute_result"
    }
   ],
   "source": [
    "x = np.arange(50,20,-1)\n",
    "y = x * 3\n",
    "z = y.reshape(5, 6)\n",
    "z"
   ]
  },
  {
   "cell_type": "markdown",
   "metadata": {},
   "source": [
    "#### 1. z의 각 행을 정렬"
   ]
  },
  {
   "cell_type": "code",
   "execution_count": 48,
   "metadata": {
    "school_cell_uuid": "da3e75c2705b4dd48d370c11a4f5f130"
   },
   "outputs": [
    {
     "data": {
      "text/plain": [
       "array([[135, 138, 141, 144, 147, 150],\n",
       "       [117, 120, 123, 126, 129, 132],\n",
       "       [ 99, 102, 105, 108, 111, 114],\n",
       "       [ 81,  84,  87,  90,  93,  96],\n",
       "       [ 63,  66,  69,  72,  75,  78]])"
      ]
     },
     "execution_count": 48,
     "metadata": {},
     "output_type": "execute_result"
    }
   ],
   "source": [
    "z.sort(axis=1)\n",
    "z"
   ]
  },
  {
   "cell_type": "markdown",
   "metadata": {},
   "source": [
    "#### 2. z의 각 열을 정렬"
   ]
  },
  {
   "cell_type": "code",
   "execution_count": 51,
   "metadata": {
    "school_cell_uuid": "1fd97917879a4acaac384f7522f33e74"
   },
   "outputs": [
    {
     "data": {
      "text/plain": [
       "array([[ 78,  75,  72,  69,  66,  63],\n",
       "       [ 96,  93,  90,  87,  84,  81],\n",
       "       [114, 111, 108, 105, 102,  99],\n",
       "       [132, 129, 126, 123, 120, 117],\n",
       "       [150, 147, 144, 141, 138, 135]])"
      ]
     },
     "execution_count": 51,
     "metadata": {},
     "output_type": "execute_result"
    }
   ],
   "source": [
    "z.sort(axis=0)\n",
    "z"
   ]
  },
  {
   "cell_type": "markdown",
   "metadata": {},
   "source": [
    "# [연습문제 4]\n",
    "### a와 b의 전치 행렬을 내적한 결과를 출력하세요.\n",
    "\n",
    "a = 1~4 원소를 가진 2x2 행렬  \n",
    "b = 1~6 원소를 가진 3x2 행렬 "
   ]
  },
  {
   "cell_type": "code",
   "execution_count": 57,
   "metadata": {},
   "outputs": [],
   "source": [
    "a = np.arange(1,5).reshape((2,2))\n",
    "b = np.arange(1,7).reshape((3,2))"
   ]
  },
  {
   "cell_type": "code",
   "execution_count": 58,
   "metadata": {},
   "outputs": [
    {
     "data": {
      "text/plain": [
       "array([[1, 2],\n",
       "       [3, 4]])"
      ]
     },
     "execution_count": 58,
     "metadata": {},
     "output_type": "execute_result"
    }
   ],
   "source": [
    "a"
   ]
  },
  {
   "cell_type": "code",
   "execution_count": 59,
   "metadata": {},
   "outputs": [
    {
     "data": {
      "text/plain": [
       "array([[1, 2],\n",
       "       [3, 4],\n",
       "       [5, 6]])"
      ]
     },
     "execution_count": 59,
     "metadata": {},
     "output_type": "execute_result"
    }
   ],
   "source": [
    "b"
   ]
  },
  {
   "cell_type": "code",
   "execution_count": 60,
   "metadata": {},
   "outputs": [
    {
     "data": {
      "text/plain": [
       "array([[ 5, 11, 17],\n",
       "       [11, 25, 39]])"
      ]
     },
     "execution_count": 60,
     "metadata": {},
     "output_type": "execute_result"
    }
   ],
   "source": [
    "a.dot(b.T)"
   ]
  }
 ],
 "metadata": {
  "kernelspec": {
   "display_name": "Python 3",
   "language": "python",
   "name": "python3"
  },
  "language_info": {
   "codemirror_mode": {
    "name": "ipython",
    "version": 3
   },
   "file_extension": ".py",
   "mimetype": "text/x-python",
   "name": "python",
   "nbconvert_exporter": "python",
   "pygments_lexer": "ipython3",
   "version": "3.6.6"
  }
 },
 "nbformat": 4,
 "nbformat_minor": 2
}
