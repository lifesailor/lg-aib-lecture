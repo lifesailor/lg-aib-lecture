{
 "cells": [
  {
   "cell_type": "markdown",
   "metadata": {},
   "source": [
    "### 1. Inheritance"
   ]
  },
  {
   "cell_type": "code",
   "execution_count": 2,
   "metadata": {},
   "outputs": [
    {
     "name": "stdout",
     "output_type": "stream",
     "text": [
      "Marge Simpson\n",
      "Homer Simpson\n",
      "Homer Simpson, 1007\n"
     ]
    }
   ],
   "source": [
    "class Person:\n",
    "    def __init__(self, first, last):\n",
    "        self.firstname = first\n",
    "        self.lastname = last\n",
    "\n",
    "    def Name(self):\n",
    "        return self.firstname + \" \" + self.lastname\n",
    "\n",
    "class Employee(Person):\n",
    "    def __init__(self, first, last, staffnum):\n",
    "        Person.__init__(self, first, last)\n",
    "        self.staffnumber = staffnum\n",
    "\n",
    "    def GetEmployee(self):\n",
    "        return self.Name() + \", \" +  self.staffnumber\n",
    "\n",
    "x = Person(\"Marge\", \"Simpson\")\n",
    "y = Employee(\"Homer\", \"Simpson\", \"1007\")\n",
    "\n",
    "print(x.Name())\n",
    "print(y.Name())\n",
    "print(y.GetEmployee())"
   ]
  },
  {
   "cell_type": "markdown",
   "metadata": {},
   "source": [
    "### 2. Overiding"
   ]
  },
  {
   "cell_type": "code",
   "execution_count": 4,
   "metadata": {},
   "outputs": [
    {
     "name": "stdout",
     "output_type": "stream",
     "text": [
      "Marge Simpson, 36\n",
      "Homer Simpson, 28, 1007\n"
     ]
    }
   ],
   "source": [
    "class Person:\n",
    "    def __init__(self, first, last, age):\n",
    "        self.firstname = first\n",
    "        self.lastname = last\n",
    "        self.age = age\n",
    "\n",
    "    def __str__(self):\n",
    "        return self.firstname + \" \" + self.lastname + \", \" + str(self.age)\n",
    "\n",
    "class Employee(Person, Family):\n",
    "    def __init__(self, first, last, age, staffnum):\n",
    "        super(Employee, self).__init__(first, last, age)\n",
    "        self.staffnumber = staffnum\n",
    "\n",
    "    def __str__(self):\n",
    "        return super(Employee, self).__str__() + \", \" +  self.staffnumber\n",
    "\n",
    "\n",
    "x = Person(\"Marge\", \"Simpson\", 36)\n",
    "y = Employee(\"Homer\", \"Simpson\", 28, \"1007\")\n",
    "\n",
    "print(x)\n",
    "print(y)"
   ]
  },
  {
   "cell_type": "markdown",
   "metadata": {},
   "source": [
    "### 3. 문제"
   ]
  },
  {
   "cell_type": "markdown",
   "metadata": {},
   "source": [
    "1. 클래스 명: Card\n",
    "\n",
    "    1) 변수\n",
    "        - 이름: 자신의 이름\n",
    "        - 나이: 자신의 나이\n",
    "    2) 메소드\n",
    "        - pay: 지불하다.\n",
    "        \n",
    "2. 클래스 명: CreditCard\n",
    "\n",
    "    1) 변수\n",
    "        - 이름: 자신의 이름\n",
    "        - 나이: 자신의 나이\n",
    "        - 사용 금액: \n",
    "        \n",
    "    2) 메소드\n",
    "        - pay: 지불 기능(사용 금액 증가)\n",
    "        \n",
    "        \n",
    "3. 클래스 명: DebitCard\n",
    "\n",
    "    1) 변수\n",
    "        - 이름: 자신의 이름\n",
    "        - 나이: 자신의 나이\n",
    "        - 잔액: 자신의 잔액\n",
    "        - 사용 금액:\n",
    "        \n",
    "    2) 메소드\n",
    "        - pay: 지불하다.(잔액 감소, 사용 금액 증가)\n",
    "\n",
    "    \n",
    "    \n",
    "    "
   ]
  },
  {
   "cell_type": "code",
   "execution_count": 46,
   "metadata": {},
   "outputs": [],
   "source": [
    "from abc import *\n"
   ]
  },
  {
   "cell_type": "code",
   "execution_count": 40,
   "metadata": {},
   "outputs": [],
   "source": [
    "class Card:\n",
    "    def __init__(self, name, age):\n",
    "        self._name = name\n",
    "        self._age = age\n",
    "       \n",
    "    def pay(self):\n",
    "        print('pay')\n",
    "        pass\n",
    "    \n",
    "    @property\n",
    "    def name(self):\n",
    "        return self._name\n",
    "    \n",
    "    @name.setter\n",
    "    def name(self, name):\n",
    "        self._name = name\n",
    "    \n",
    "class CreditCard(Card):\n",
    "    def __init__(self, name, age, used_money):\n",
    "        super().__init__(name, age)\n",
    "        self._used_money = used_money\n",
    "        self._limit = 300\n",
    "        \n",
    "    def pay(self, money):        \n",
    "        \n",
    "        possility_check = self._used_money + money\n",
    "        \n",
    "        if possility_check > self._limit:\n",
    "            print(\"거절\")\n",
    "        else:\n",
    "            print(\"pay\")\n",
    "            self._used_money += money"
   ]
  }
 ],
 "metadata": {
  "kernelspec": {
   "display_name": "Python 3",
   "language": "python",
   "name": "python3"
  },
  "language_info": {
   "codemirror_mode": {
    "name": "ipython",
    "version": 3
   },
   "file_extension": ".py",
   "mimetype": "text/x-python",
   "name": "python",
   "nbconvert_exporter": "python",
   "pygments_lexer": "ipython3",
   "version": "3.6.5"
  }
 },
 "nbformat": 4,
 "nbformat_minor": 2
}
